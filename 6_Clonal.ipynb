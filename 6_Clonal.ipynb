{
 "cells": [
  {
   "cell_type": "code",
   "execution_count": 1,
   "id": "65fbb9d8-a439-4ef3-9de9-10ff7660b3ab",
   "metadata": {},
   "outputs": [],
   "source": [
    "import numpy as np"
   ]
  },
  {
   "cell_type": "code",
   "execution_count": 2,
   "id": "a97d2edd-4367-4d9b-b42f-e6dc10560d43",
   "metadata": {},
   "outputs": [],
   "source": [
    "def objective_function(x):\n",
    "    return x**2 - 4*x + 4"
   ]
  },
  {
   "cell_type": "code",
   "execution_count": 3,
   "id": "69554795-751d-4a08-94d6-07c323133007",
   "metadata": {},
   "outputs": [],
   "source": [
    "# Initialize population with random solutions\n",
    "def initialize_population(pop_size, lower_bound, upper_bound):\n",
    "    return np.random.uniform(lower_bound, upper_bound, pop_size)"
   ]
  },
  {
   "cell_type": "code",
   "execution_count": 4,
   "id": "10b928f5-2783-4bb9-b346-4f192c8d8770",
   "metadata": {},
   "outputs": [],
   "source": [
    "# Evaluate fitness for each individual\n",
    "def evaluate_population(population):\n",
    "    return np.array([objective_function(x) for x in population])"
   ]
  },
  {
   "cell_type": "code",
   "execution_count": 5,
   "id": "144e41e7-844a-4a52-a5b3-ee2122b4adcd",
   "metadata": {},
   "outputs": [],
   "source": [
    "# Select the best individuals (elitism)\n",
    "def select_best_individuals(population, fitness, num_selected):\n",
    "    sorted_indices = np.argsort(fitness)\n",
    "    return population[sorted_indices[:num_selected]]"
   ]
  },
  {
   "cell_type": "code",
   "execution_count": 6,
   "id": "190b28f1-6c54-4069-b1f3-2154f0430aef",
   "metadata": {},
   "outputs": [],
   "source": [
    "# Mutate the selected individuals\n",
    "def mutate(selected, mutation_rate, lower_bound, upper_bound):\n",
    "    return np.clip(selected + np.random.uniform(-mutation_rate, mutation_rate, selected.shape), lower_bound, upper_bound)"
   ]
  },
  {
   "cell_type": "code",
   "execution_count": 7,
   "id": "a9f43c30-1c5a-4ae1-a8e6-e0dc3c1fefcf",
   "metadata": {},
   "outputs": [],
   "source": [
    "def clonal_selection_algorithm(pop_size, lower_bound, upper_bound, generations, mutation_rate, num_selected):\n",
    "    # Initialize population\n",
    "    population = initialize_population(pop_size, lower_bound, upper_bound)\n",
    "    \n",
    "    # Run for a number of generations\n",
    "    for generation in range(generations):\n",
    "        # Evaluate fitness\n",
    "        fitness = evaluate_population(population)\n",
    "        \n",
    "        # Select the best solutions\n",
    "        selected = select_best_individuals(population, fitness, num_selected)\n",
    "        \n",
    "        # Mutate the selected individuals\n",
    "        mutated = mutate(selected, mutation_rate, lower_bound, upper_bound)\n",
    "        \n",
    "        # Replace the worst individuals with mutated ones\n",
    "        population[np.argsort(fitness)[:num_selected]] = mutated\n",
    "        \n",
    "        # Print the best solution in the current generation\n",
    "        best_solution = population[np.argmin(fitness)]\n",
    "        print(f\"Generation {generation+1}: Best Solution = {best_solution}, Fitness = {min(fitness)}\")\n",
    "    \n",
    "    # Return the best solution after all generations\n",
    "    return population[np.argmin(fitness)]\n"
   ]
  },
  {
   "cell_type": "code",
   "execution_count": 8,
   "id": "c1051a55-5190-4e31-8722-3c3e5b14348e",
   "metadata": {},
   "outputs": [],
   "source": [
    "# Parameters for the algorithm\n",
    "pop_size = 10          # Population size\n",
    "lower_bound = -10      # Lower bound for random solutions\n",
    "upper_bound = 10       # Upper bound for random solutions\n",
    "generations = 50       # Number of generations\n",
    "mutation_rate = 0.5    # Mutation rate\n",
    "num_selected = 5       # Number of best solutions to select"
   ]
  },
  {
   "cell_type": "code",
   "execution_count": 9,
   "id": "cb356985-36ec-485d-843d-eadb9f6c1bba",
   "metadata": {},
   "outputs": [
    {
     "name": "stdout",
     "output_type": "stream",
     "text": [
      "Generation 1: Best Solution = 1.9912910880098942, Fitness = 0.009729321647201417\n",
      "Generation 2: Best Solution = 1.8954233931009505, Fitness = 7.584514805136777e-05\n",
      "Generation 3: Best Solution = 2.0557830027383606, Fitness = 0.010936266710518172\n",
      "Generation 4: Best Solution = 2.0124613951840686, Fitness = 0.0031117433945082595\n",
      "Generation 5: Best Solution = 2.108983752486484, Fitness = 0.00015528636993344946\n",
      "Generation 6: Best Solution = 2.4214870632183363, Fitness = 0.011877458306035038\n",
      "Generation 7: Best Solution = 2.6896571289106292, Fitness = 0.17765134446041753\n",
      "Generation 8: Best Solution = 2.252282502733021, Fitness = 0.4756269554572521\n",
      "Generation 9: Best Solution = 1.9055260871572401, Fitness = 0.06364646118523698\n",
      "Generation 10: Best Solution = 2.3109066157560347, Fitness = 0.008925320207821219\n",
      "Generation 11: Best Solution = 1.8788552682259319, Fitness = 0.09666292372087071\n",
      "Generation 12: Best Solution = 1.4726891687013897, Fitness = 0.014676046036611101\n",
      "Generation 13: Best Solution = 1.390520995120074, Fitness = 0.27805671280483146\n",
      "Generation 14: Best Solution = 1.4090257402129625, Fitness = 0.3714646573894247\n",
      "Generation 15: Best Solution = 1.405275595585092, Fitness = 0.34925057573083684\n",
      "Generation 16: Best Solution = 1.8072025120928044, Fitness = 0.264972010894172\n",
      "Generation 17: Best Solution = 2.2460894708771386, Fitness = 0.037170871343325196\n",
      "Generation 18: Best Solution = 2.7368851322879584, Fitness = 0.060560027676589634\n",
      "Generation 19: Best Solution = 2.2882449691747793, Fitness = 0.001126122251641437\n",
      "Generation 20: Best Solution = 1.9297870222243336, Fitness = 0.08308516225456941\n",
      "Generation 21: Best Solution = 2.056256141957734, Fitness = 0.0022630786931854274\n",
      "Generation 22: Best Solution = 2.0418672066819186, Fitness = 0.003164753507968854\n",
      "Generation 23: Best Solution = 2.042691767107435, Fitness = 0.0017528629953460495\n",
      "Generation 24: Best Solution = 2.4989933270884066, Fitness = 0.0018225869787551474\n",
      "Generation 25: Best Solution = 2.781332934813146, Fitness = 0.2489943404787578\n",
      "Generation 26: Best Solution = 2.4702393953262343, Fitness = 0.6104811550237237\n",
      "Generation 27: Best Solution = 2.669525207204557, Fitness = 0.22112508891678218\n",
      "Generation 28: Best Solution = 3.0059980521673855, Fitness = 0.4482640030823051\n",
      "Generation 29: Best Solution = 3.0048298101965596, Fitness = 1.0120320809645733\n",
      "Generation 30: Best Solution = 2.717704408701565, Fitness = 1.0096829474596536\n",
      "Generation 31: Best Solution = 2.5452694800036615, Fitness = 0.5150996182696632\n",
      "Generation 32: Best Solution = 2.444993545979365, Fitness = 0.2973188058234637\n",
      "Generation 33: Best Solution = 2.321985601002346, Fitness = 0.19801925596328918\n",
      "Generation 34: Best Solution = 2.5132890250593802, Fitness = 0.10367472725284177\n",
      "Generation 35: Best Solution = 2.8817419229366026, Fitness = 0.2634656232464092\n",
      "Generation 36: Best Solution = 0.8593946994275954, Fitness = 0.7303071921315665\n",
      "Generation 37: Best Solution = 2.904193533430861, Fitness = 1.2779335915137544\n",
      "Generation 38: Best Solution = 2.7456692664021447, Fitness = 0.8175659458981865\n",
      "Generation 39: Best Solution = 3.142138540756277, Fitness = 0.5560226548567124\n",
      "Generation 40: Best Solution = 0.7394005767747112, Fitness = 0.7221844718609596\n",
      "Generation 41: Best Solution = 1.2098667161135186, Fitness = 1.589110905835931\n",
      "Generation 42: Best Solution = 0.9598310540386497, Fitness = 0.6243106063052348\n",
      "Generation 43: Best Solution = 2.574218192762408, Fitness = 0.5928227216642199\n",
      "Generation 44: Best Solution = 2.184885749465463, Fitness = 0.3297265328993255\n",
      "Generation 45: Best Solution = 1.8083196566174393, Fitness = 0.034182740355405805\n",
      "Generation 46: Best Solution = 1.60418969228744, Fitness = 0.03674135403925627\n",
      "Generation 47: Best Solution = 1.2029926367934125, Fitness = 0.1566657996915115\n",
      "Generation 48: Best Solution = 1.4525555077052394, Fitness = 0.6352207370055174\n",
      "Generation 49: Best Solution = 1.5005823470859487, Fitness = 0.29969547214386827\n",
      "Generation 50: Best Solution = 1.9483117641154726, Fitness = 0.24941799204217974\n",
      "Best Solution: 1.9483117641154726\n"
     ]
    }
   ],
   "source": [
    "# Run the Clonal Selection Algorithm\n",
    "best_solution = clonal_selection_algorithm(pop_size, lower_bound, upper_bound, generations, mutation_rate, num_selected)\n",
    "print(f\"Best Solution: {best_solution}\")"
   ]
  },
  {
   "cell_type": "code",
   "execution_count": null,
   "id": "fed3b5f3-51df-41f3-9a95-5ac98da384cc",
   "metadata": {},
   "outputs": [],
   "source": []
  },
  {
   "cell_type": "code",
   "execution_count": null,
   "id": "eeaab8dc-571c-4c03-b9c8-e8a074878a32",
   "metadata": {},
   "outputs": [],
   "source": []
  },
  {
   "cell_type": "code",
   "execution_count": null,
   "id": "a87606e0-1ce4-4ed4-82fa-c0f6eaac392e",
   "metadata": {},
   "outputs": [],
   "source": []
  }
 ],
 "metadata": {
  "kernelspec": {
   "display_name": "Python 3",
   "language": "python",
   "name": "python3"
  },
  "language_info": {
   "codemirror_mode": {
    "name": "ipython",
    "version": 3
   },
   "file_extension": ".py",
   "mimetype": "text/x-python",
   "name": "python",
   "nbconvert_exporter": "python",
   "pygments_lexer": "ipython3",
   "version": "3.11.4"
  }
 },
 "nbformat": 4,
 "nbformat_minor": 5
}
