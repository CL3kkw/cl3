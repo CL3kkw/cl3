{
  "cells": [
    {
      "cell_type": "code",
      "execution_count": 7,
      "metadata": {
        "id": "41bh9TlG31Zo"
      },
      "outputs": [],
      "source": [
        "#To apply the artificial immune pattern recognition to perform a task of structure damage Classification\n",
        "import random"
      ]
    },
    {
      "cell_type": "markdown",
      "metadata": {},
      "source": []
    },
    {
      "cell_type": "code",
      "execution_count": null,
      "metadata": {
        "id": "eIcoXApX33wW"
      },
      "outputs": [],
      "source": [
        "# Generate random signal patterns\n",
        "def generate_pattern(length=10):\n",
        "    return [random.randint(0, 1) for _ in range(length)]"
      ]
    },
    {
      "cell_type": "code",
      "execution_count": 9,
      "metadata": {
        "id": "IPhy5x4I36qx"
      },
      "outputs": [],
      "source": [
        "# Calculate matching (Hamming distance)\n",
        "def match(p1, p2, threshold):\n",
        "    distance = sum([1 for a, b in zip(p1, p2) if a != b])\n",
        "    return distance <= threshold"
      ]
    },
    {
      "cell_type": "code",
      "execution_count": 10,
      "metadata": {
        "id": "TKp9lPOQ39bU"
      },
      "outputs": [],
      "source": [
        "# Generate detectors (patterns that don't match any healthy signal)\n",
        "def generate_detectors(self_set, num_detectors=20, threshold=2):\n",
        "    detectors = []\n",
        "    while len(detectors) < num_detectors:\n",
        "        candidate = generate_pattern()\n",
        "        if all(not match(candidate, self_pattern, threshold) for self_pattern in self_set):\n",
        "            detectors.append(candidate)\n",
        "    return detectors"
      ]
    },
    {
      "cell_type": "code",
      "execution_count": 11,
      "metadata": {
        "id": "FfHieRb83_mr"
      },
      "outputs": [],
      "source": [
        "# Classify input pattern using detectors\n",
        "def classify(pattern, detectors, threshold=2):\n",
        "    for detector in detectors:\n",
        "        if match(pattern, detector, threshold):\n",
        "            return \"Damaged\"\n",
        "    return \"Healthy\""
      ]
    },
    {
      "cell_type": "code",
      "execution_count": 12,
      "metadata": {
        "id": "ClxhlA3J4BpB"
      },
      "outputs": [],
      "source": [
        "# Simulate some self (normal) patterns\n",
        "self_patterns = [generate_pattern() for _ in range(10)]"
      ]
    },
    {
      "cell_type": "code",
      "execution_count": 13,
      "metadata": {
        "id": "si0-LZf74DhM"
      },
      "outputs": [],
      "source": [
        "# Generate detectors based on self set\n",
        "detectors = generate_detectors(self_patterns)"
      ]
    },
    {
      "cell_type": "code",
      "execution_count": 14,
      "metadata": {
        "id": "-bL9AdR34FPo"
      },
      "outputs": [],
      "source": [
        "# Simulate test patterns (some normal, some damaged)\n",
        "test_patterns = self_patterns[:3]  # healthy ones\n",
        "test_patterns += [generate_pattern() for _ in range(3)]  # simulate new/damaged"
      ]
    },
    {
      "cell_type": "code",
      "execution_count": 15,
      "metadata": {
        "colab": {
          "base_uri": "https://localhost:8080/"
        },
        "id": "yj_OQTwt4G3o",
        "outputId": "ef159f75-bf2d-49f9-a824-1e069e8c59ac"
      },
      "outputs": [
        {
          "name": "stdout",
          "output_type": "stream",
          "text": [
            "=== Structure Damage Classification ===\n",
            "\n",
            "Pattern 1: [0, 1, 1, 0, 0, 0, 0, 1, 0, 0] → Healthy\n",
            "Pattern 2: [1, 1, 1, 0, 0, 0, 0, 0, 1, 0] → Healthy\n",
            "Pattern 3: [0, 1, 1, 0, 0, 0, 0, 1, 1, 1] → Healthy\n",
            "Pattern 4: [0, 1, 1, 1, 1, 1, 1, 0, 0, 0] → Damaged\n",
            "Pattern 5: [0, 0, 1, 1, 1, 0, 0, 1, 1, 0] → Damaged\n",
            "Pattern 6: [0, 0, 1, 1, 1, 0, 0, 0, 1, 0] → Healthy\n"
          ]
        }
      ],
      "source": [
        "# Classify and display results\n",
        "print(\"=== Structure Damage Classification ===\\n\")\n",
        "for i, pattern in enumerate(test_patterns):\n",
        "    result = classify(pattern, detectors)\n",
        "    print(f\"Pattern {i+1}: {pattern} → {result}\")"
      ]
    },
    {
      "cell_type": "code",
      "execution_count": null,
      "metadata": {
        "id": "pwHWZKnQ4InH"
      },
      "outputs": [],
      "source": []
    }
  ],
  "metadata": {
    "colab": {
      "provenance": []
    },
    "kernelspec": {
      "display_name": "Python 3",
      "name": "python3"
    },
    "language_info": {
      "codemirror_mode": {
        "name": "ipython",
        "version": 3
      },
      "file_extension": ".py",
      "mimetype": "text/x-python",
      "name": "python",
      "nbconvert_exporter": "python",
      "pygments_lexer": "ipython3",
      "version": "3.11.4"
    }
  },
  "nbformat": 4,
  "nbformat_minor": 0
}
