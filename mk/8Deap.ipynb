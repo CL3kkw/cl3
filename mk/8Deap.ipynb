{
 "cells": [
  {
   "cell_type": "code",
   "execution_count": 1,
   "id": "c7e0bf4b",
   "metadata": {},
   "outputs": [
    {
     "name": "stdout",
     "output_type": "stream",
     "text": [
      "Requirement already satisfied: deap in c:\\users\\tuf\\anaconda3\\lib\\site-packages (1.4.3)\n",
      "Requirement already satisfied: numpy in c:\\users\\tuf\\anaconda3\\lib\\site-packages (from deap) (1.26.4)\n",
      "Note: you may need to restart the kernel to use updated packages.\n"
     ]
    }
   ],
   "source": [
    "pip install deap"
   ]
  },
  {
   "cell_type": "code",
   "execution_count": 1,
   "id": "f3688a7b",
   "metadata": {
    "scrolled": true
   },
   "outputs": [
    {
     "name": "stdout",
     "output_type": "stream",
     "text": [
      "gen\tnevals\n",
      "0  \t30    \n",
      "1  \t21    \n",
      "2  \t24    \n",
      "3  \t23    \n",
      "4  \t20    \n",
      "5  \t22    \n",
      "6  \t19    \n",
      "7  \t23    \n",
      "8  \t24    \n",
      "9  \t26    \n",
      "10 \t17    \n",
      "Best Individual: [1, 1, 1, 1, 1, 1, 1, 1, 1, 1]\n"
     ]
    }
   ],
   "source": [
    "#MK\n",
    "\n",
    "import random\n",
    "from deap import base, creator, tools, algorithms\n",
    "\n",
    "# Define the problem as a maximization task\n",
    "creator.create(\"FitnessMax\", base.Fitness, weights=(1.0,))\n",
    "creator.create(\"Individual\", list, fitness=creator.FitnessMax)\n",
    "\n",
    "# Define an individual creation function\n",
    "def create_individual():\n",
    "    return [random.randint(0, 1) for _ in range(10)]  # A binary individual of size 10\n",
    "\n",
    "# Define a fitness function (Maximization)\n",
    "def evaluate(individual):\n",
    "    return sum(individual),  # The fitness is the sum of the bits in the individual\n",
    "\n",
    "# Set up the DEAP framework\n",
    "toolbox = base.Toolbox()\n",
    "toolbox.register(\"individual\", tools.initIterate, creator.Individual, create_individual)\n",
    "toolbox.register(\"population\", tools.initRepeat, list, toolbox.individual)\n",
    "toolbox.register(\"mate\", tools.cxTwoPoint)\n",
    "toolbox.register(\"mutate\", tools.mutFlipBit, indpb=0.2)\n",
    "toolbox.register(\"select\", tools.selTournament, tournsize=3)\n",
    "toolbox.register(\"evaluate\", evaluate)\n",
    "\n",
    "# Create an initial population of 100 individuals\n",
    "population = toolbox.population(n=30)\n",
    "\n",
    "# Run the algorithm\n",
    "algorithms.eaSimple(population, toolbox, cxpb=0.7, mutpb=0.2, ngen=10,verbose=True)\n",
    "\n",
    "best_individual = tools.selBest(population, 1)[0]\n",
    "print(\"Best Individual:\", best_individual)\n"
   ]
  },
  {
   "cell_type": "code",
   "execution_count": 3,
   "id": "5cc289d7",
   "metadata": {},
   "outputs": [
    {
     "name": "stdout",
     "output_type": "stream",
     "text": [
      "gen\tnevals\tmax   \n",
      "0  \t30    \t(8.0,)\n",
      "1  \t17    \t(8.0,)\n",
      "2  \t18    \t(9.0,)\n",
      "3  \t23    \t(10.0,)\n",
      "4  \t13    \t(10.0,)\n",
      "5  \t19    \t(10.0,)\n",
      "6  \t20    \t(10.0,)\n",
      "7  \t16    \t(10.0,)\n",
      "8  \t16    \t(10.0,)\n",
      "9  \t22    \t(10.0,)\n",
      "10 \t18    \t(10.0,)\n",
      "\n",
      "Best individual: [1, 1, 1, 1, 1, 1, 1, 1, 1, 1]\n",
      "Fitness: 10.0\n"
     ]
    },
    {
     "name": "stderr",
     "output_type": "stream",
     "text": [
      "C:\\Users\\TUF\\anaconda3\\Lib\\site-packages\\deap\\creator.py:185: RuntimeWarning: A class named 'FitnessMax' has already been created and it will be overwritten. Consider deleting previous creation of that class or rename it.\n",
      "  warnings.warn(\"A class named '{0}' has already been created and it \"\n",
      "C:\\Users\\TUF\\anaconda3\\Lib\\site-packages\\deap\\creator.py:185: RuntimeWarning: A class named 'Individual' has already been created and it will be overwritten. Consider deleting previous creation of that class or rename it.\n",
      "  warnings.warn(\"A class named '{0}' has already been created and it \"\n"
     ]
    }
   ],
   "source": [
    "#yash shinde\n",
    "import random\n",
    "from deap import base, creator, tools, algorithms\n",
    "# Problem: Maximize number of 1s in a binary list of length 10\n",
    "# Step 1: Define the fitness and individual\n",
    "creator.create(\"FitnessMax\", base.Fitness, weights=(1.0,))  # Maximize\n",
    "creator.create(\"Individual\", list, fitness=creator.FitnessMax)\n",
    "toolbox = base.Toolbox()\n",
    "# Step 2: Individual and population generation\n",
    "toolbox.register(\"attr_bool\", random.randint, 0, 1)  # genes: 0 or 1\n",
    "toolbox.register(\"individual\", tools.initRepeat, creator.Individual, toolbox.attr_bool, 10)\n",
    "toolbox.register(\"population\", tools.initRepeat, list, toolbox.individual)\n",
    "# Step 3: Define the fitness function\n",
    "def eval_fitness(individual):\n",
    "    return sum(individual),  # fitness is number of 1s\n",
    "toolbox.register(\"evaluate\", eval_fitness)\n",
    "toolbox.register(\"mate\", tools.cxTwoPoint)\n",
    "toolbox.register(\"mutate\", tools.mutFlipBit, indpb=0.1)  # 10% mutation chance per gene\n",
    "toolbox.register(\"select\", tools.selTournament, tournsize=3)\n",
    "def run_ea():\n",
    "    pop = toolbox.population(n=30)\n",
    "    hof = tools.HallOfFame(1)  # best individual tracker\n",
    "    stats = tools.Statistics(lambda ind: ind.fitness.values)\n",
    "    stats.register(\"max\", max)\n",
    "\n",
    "    pop, log = algorithms.eaSimple(pop, toolbox, cxpb=0.5, mutpb=0.2, ngen=10,\n",
    "                                   stats=stats, halloffame=hof, verbose=True)\n",
    "\n",
    "    print(\"\\nBest individual:\", hof[0])\n",
    "    print(\"Fitness:\", hof[0].fitness.values[0])\n",
    "run_ea()\n"
   ]
  },
  {
   "cell_type": "code",
   "execution_count": null,
   "id": "b19272cc",
   "metadata": {},
   "outputs": [],
   "source": []
  }
 ],
 "metadata": {
  "kernelspec": {
   "display_name": "Python 3 (ipykernel)",
   "language": "python",
   "name": "python3"
  },
  "language_info": {
   "codemirror_mode": {
    "name": "ipython",
    "version": 3
   },
   "file_extension": ".py",
   "mimetype": "text/x-python",
   "name": "python",
   "nbconvert_exporter": "python",
   "pygments_lexer": "ipython3",
   "version": "3.12.7"
  }
 },
 "nbformat": 4,
 "nbformat_minor": 5
}
