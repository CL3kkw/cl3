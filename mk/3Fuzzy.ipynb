{
 "cells": [
  {
   "cell_type": "code",
   "execution_count": 2,
   "id": "92197a29",
   "metadata": {},
   "outputs": [
    {
     "name": "stdout",
     "output_type": "stream",
     "text": [
      "\n",
      "Union: {'x1': 0.2, 'x2': 0.7, 'x3': 1.0, 'y1': 0.5, 'y2': 0.8, 'y3': 0.3}\n",
      "\n",
      "Intersection: {'x1': 0, 'x2': 0, 'x3': 0, 'y1': 0, 'y2': 0, 'y3': 0}\n",
      "\n",
      "Complement of A: {'x1': 0.8, 'x2': 0.30000000000000004, 'x3': 0.0}\n",
      "\n",
      "A - B: {'x1': 0.2, 'x2': 0.7, 'x3': 1.0, 'y1': 0, 'y2': 0, 'y3': 0}\n",
      "\n",
      "R1 (A × B): {('x1', 'y1'): 0.2, ('x1', 'y2'): 0.2, ('x1', 'y3'): 0.2, ('x2', 'y1'): 0.5, ('x2', 'y2'): 0.7, ('x2', 'y3'): 0.3, ('x3', 'y1'): 0.5, ('x3', 'y2'): 0.8, ('x3', 'y3'): 0.3}\n",
      "\n",
      "R2 (B × C): {('y1', 'z1'): 0.5, ('y1', 'z2'): 0.5, ('y2', 'z1'): 0.6, ('y2', 'z2'): 0.8, ('y3', 'z1'): 0.3, ('y3', 'z2'): 0.3}\n",
      "\n",
      "R1 ° R2: {('x1', 'z1'): 0.2, ('x1', 'z2'): 0.2, ('x2', 'z1'): 0.6, ('x2', 'z2'): 0.7, ('x3', 'z1'): 0.6, ('x3', 'z2'): 0.8}\n"
     ]
    }
   ],
   "source": [
    "# Fuzzy Set Operations\n",
    "def union(A, B):\n",
    "    return {x: max(A.get(x, 0), B.get(x, 0)) for x in A | B}\n",
    "\n",
    "def intersection(A, B):\n",
    "    return {x: min(A.get(x, 0), B.get(x, 0)) for x in A | B}\n",
    "\n",
    "def complement(A):\n",
    "    return {x: 1 - μ for x, μ in A.items()}\n",
    "\n",
    "def difference(A, B):\n",
    "    return {x: min(A.get(x, 0), 1 - B.get(x, 0)) for x in A | B}\n",
    "\n",
    "# Cartesian Product for Fuzzy Relation\n",
    "def cartesian_product(A, B):\n",
    "    return {(x, y): min(A[x], B[y]) for x in A for y in B}\n",
    "\n",
    "# Max-Min Composition\n",
    "def max_min_composition(R1, R2):\n",
    "    result = {}\n",
    "    for (x, y1), μ1 in R1.items():\n",
    "        for (y2, z), μ2 in R2.items():\n",
    "            if y1 == y2:\n",
    "                result[(x, z)] = max(result.get((x, z), 0), min(μ1, μ2))\n",
    "    return result\n",
    "\n",
    "# Example Usage\n",
    "A = {'x1': 0.2, 'x2': 0.7, 'x3': 1.0}\n",
    "B = {'y1': 0.5, 'y2': 0.8, 'y3': 0.3}\n",
    "C = {'z1': 0.6, 'z2': 0.9}\n",
    "\n",
    "print(\"\\nUnion:\", union(A, B))\n",
    "print(\"\\nIntersection:\", intersection(A, B))\n",
    "print(\"\\nComplement of A:\", complement(A))\n",
    "print(\"\\nA - B:\", difference(A, B))\n",
    "\n",
    "R1 = cartesian_product(A, B)\n",
    "R2 = cartesian_product(B, C)\n",
    "print(\"\\nR1 (A × B):\", R1)\n",
    "print(\"\\nR2 (B × C):\", R2)\n",
    "\n",
    "R3 = max_min_composition(R1, R2)\n",
    "print(\"\\nR1 ° R2:\", R3)\n"
   ]
  },
  {
   "cell_type": "code",
   "execution_count": null,
   "id": "10591f98",
   "metadata": {},
   "outputs": [],
   "source": []
  }
 ],
 "metadata": {
  "kernelspec": {
   "display_name": "Python 3 (ipykernel)",
   "language": "python",
   "name": "python3"
  },
  "language_info": {
   "codemirror_mode": {
    "name": "ipython",
    "version": 3
   },
   "file_extension": ".py",
   "mimetype": "text/x-python",
   "name": "python",
   "nbconvert_exporter": "python",
   "pygments_lexer": "ipython3",
   "version": "3.12.7"
  }
 },
 "nbformat": 4,
 "nbformat_minor": 5
}
