{
 "cells": [
  {
   "cell_type": "code",
   "execution_count": 2,
   "id": "9e65c61e",
   "metadata": {},
   "outputs": [
    {
     "name": "stdin",
     "output_type": "stream",
     "text": [
      "Enter first string:  xxx\n",
      "Enter second string:  xxx\n"
     ]
    },
    {
     "ename": "CommunicationError",
     "evalue": "cannot connect to ('localhost', 50544): [WinError 10061] No connection could be made because the target machine actively refused it",
     "output_type": "error",
     "traceback": [
      "\u001b[1;31m---------------------------------------------------------------------------\u001b[0m",
      "\u001b[1;31mConnectionRefusedError\u001b[0m                    Traceback (most recent call last)",
      "File \u001b[1;32m~\\anaconda3\\Lib\\site-packages\\Pyro4\\core.py:511\u001b[0m, in \u001b[0;36mProxy.__pyroCreateConnection.<locals>.connect_and_handshake\u001b[1;34m(conn)\u001b[0m\n\u001b[0;32m    510\u001b[0m     sslContext \u001b[38;5;241m=\u001b[39m \u001b[38;5;28;01mNone\u001b[39;00m\n\u001b[1;32m--> 511\u001b[0m sock \u001b[38;5;241m=\u001b[39m socketutil\u001b[38;5;241m.\u001b[39mcreateSocket(connect\u001b[38;5;241m=\u001b[39mconnect_location,\n\u001b[0;32m    512\u001b[0m                                reuseaddr\u001b[38;5;241m=\u001b[39mconfig\u001b[38;5;241m.\u001b[39mSOCK_REUSE,\n\u001b[0;32m    513\u001b[0m                                timeout\u001b[38;5;241m=\u001b[39m\u001b[38;5;28mself\u001b[39m\u001b[38;5;241m.\u001b[39m__pyroTimeout,\n\u001b[0;32m    514\u001b[0m                                nodelay\u001b[38;5;241m=\u001b[39mconfig\u001b[38;5;241m.\u001b[39mSOCK_NODELAY,\n\u001b[0;32m    515\u001b[0m                                sslContext\u001b[38;5;241m=\u001b[39msslContext)\n\u001b[0;32m    516\u001b[0m conn \u001b[38;5;241m=\u001b[39m socketutil\u001b[38;5;241m.\u001b[39mSocketConnection(sock, uri\u001b[38;5;241m.\u001b[39mobject)\n",
      "File \u001b[1;32m~\\anaconda3\\Lib\\site-packages\\Pyro4\\socketutil.py:307\u001b[0m, in \u001b[0;36mcreateSocket\u001b[1;34m(bind, connect, reuseaddr, keepalive, timeout, noinherit, ipv6, nodelay, sslContext)\u001b[0m\n\u001b[0;32m    306\u001b[0m \u001b[38;5;28;01mtry\u001b[39;00m:\n\u001b[1;32m--> 307\u001b[0m     sock\u001b[38;5;241m.\u001b[39mconnect(connect)\n\u001b[0;32m    308\u001b[0m \u001b[38;5;28;01mexcept\u001b[39;00m socket\u001b[38;5;241m.\u001b[39merror:\n\u001b[0;32m    309\u001b[0m     \u001b[38;5;66;03m# This can happen when the socket is in non-blocking mode (or has a timeout configured).\u001b[39;00m\n\u001b[0;32m    310\u001b[0m     \u001b[38;5;66;03m# We check if it is a retryable errno (usually EINPROGRESS).\u001b[39;00m\n\u001b[0;32m    311\u001b[0m     \u001b[38;5;66;03m# If so, we use select() to wait until the socket is in writable state,\u001b[39;00m\n\u001b[0;32m    312\u001b[0m     \u001b[38;5;66;03m# essentially rebuilding a blocking connect() call.\u001b[39;00m\n",
      "\u001b[1;31mConnectionRefusedError\u001b[0m: [WinError 10061] No connection could be made because the target machine actively refused it",
      "\nThe above exception was the direct cause of the following exception:\n",
      "\u001b[1;31mCommunicationError\u001b[0m                        Traceback (most recent call last)",
      "Cell \u001b[1;32mIn[2], line 13\u001b[0m\n\u001b[0;32m     10\u001b[0m str1 \u001b[38;5;241m=\u001b[39m \u001b[38;5;28minput\u001b[39m(\u001b[38;5;124m\"\u001b[39m\u001b[38;5;124mEnter first string: \u001b[39m\u001b[38;5;124m\"\u001b[39m)\n\u001b[0;32m     11\u001b[0m str2 \u001b[38;5;241m=\u001b[39m \u001b[38;5;28minput\u001b[39m(\u001b[38;5;124m\"\u001b[39m\u001b[38;5;124mEnter second string: \u001b[39m\u001b[38;5;124m\"\u001b[39m)\n\u001b[1;32m---> 13\u001b[0m result \u001b[38;5;241m=\u001b[39m proxy\u001b[38;5;241m.\u001b[39mconcatenate(str1, str2)\n\u001b[0;32m     14\u001b[0m \u001b[38;5;28mprint\u001b[39m(\u001b[38;5;124m\"\u001b[39m\u001b[38;5;124mConcatenated result:\u001b[39m\u001b[38;5;124m\"\u001b[39m, result)\n",
      "File \u001b[1;32m~\\anaconda3\\Lib\\site-packages\\Pyro4\\core.py:275\u001b[0m, in \u001b[0;36mProxy.__getattr__\u001b[1;34m(self, name)\u001b[0m\n\u001b[0;32m    272\u001b[0m \u001b[38;5;28;01mif\u001b[39;00m config\u001b[38;5;241m.\u001b[39mMETADATA:\n\u001b[0;32m    273\u001b[0m     \u001b[38;5;66;03m# get metadata if it's not there yet\u001b[39;00m\n\u001b[0;32m    274\u001b[0m     \u001b[38;5;28;01mif\u001b[39;00m \u001b[38;5;129;01mnot\u001b[39;00m \u001b[38;5;28mself\u001b[39m\u001b[38;5;241m.\u001b[39m_pyroMethods \u001b[38;5;129;01mand\u001b[39;00m \u001b[38;5;129;01mnot\u001b[39;00m \u001b[38;5;28mself\u001b[39m\u001b[38;5;241m.\u001b[39m_pyroAttrs:\n\u001b[1;32m--> 275\u001b[0m         \u001b[38;5;28mself\u001b[39m\u001b[38;5;241m.\u001b[39m_pyroGetMetadata()\n\u001b[0;32m    276\u001b[0m \u001b[38;5;28;01mif\u001b[39;00m name \u001b[38;5;129;01min\u001b[39;00m \u001b[38;5;28mself\u001b[39m\u001b[38;5;241m.\u001b[39m_pyroAttrs:\n\u001b[0;32m    277\u001b[0m     \u001b[38;5;28;01mreturn\u001b[39;00m \u001b[38;5;28mself\u001b[39m\u001b[38;5;241m.\u001b[39m_pyroInvoke(\u001b[38;5;124m\"\u001b[39m\u001b[38;5;124m__getattr__\u001b[39m\u001b[38;5;124m\"\u001b[39m, (name,), \u001b[38;5;28;01mNone\u001b[39;00m)\n",
      "File \u001b[1;32m~\\anaconda3\\Lib\\site-packages\\Pyro4\\core.py:615\u001b[0m, in \u001b[0;36mProxy._pyroGetMetadata\u001b[1;34m(self, objectId, known_metadata)\u001b[0m\n\u001b[0;32m    613\u001b[0m \u001b[38;5;28;01mif\u001b[39;00m \u001b[38;5;28mself\u001b[39m\u001b[38;5;241m.\u001b[39m_pyroConnection \u001b[38;5;129;01mis\u001b[39;00m \u001b[38;5;28;01mNone\u001b[39;00m \u001b[38;5;129;01mand\u001b[39;00m \u001b[38;5;129;01mnot\u001b[39;00m known_metadata:\n\u001b[0;32m    614\u001b[0m     \u001b[38;5;28;01mtry\u001b[39;00m:\n\u001b[1;32m--> 615\u001b[0m         \u001b[38;5;28mself\u001b[39m\u001b[38;5;241m.\u001b[39m__pyroCreateConnection()\n\u001b[0;32m    616\u001b[0m     \u001b[38;5;28;01mexcept\u001b[39;00m errors\u001b[38;5;241m.\u001b[39mPyroError:\n\u001b[0;32m    617\u001b[0m         log\u001b[38;5;241m.\u001b[39merror(\u001b[38;5;124m\"\u001b[39m\u001b[38;5;124mproblem getting metadata: cannot connect\u001b[39m\u001b[38;5;124m\"\u001b[39m)\n",
      "File \u001b[1;32m~\\anaconda3\\Lib\\site-packages\\Pyro4\\core.py:596\u001b[0m, in \u001b[0;36mProxy.__pyroCreateConnection\u001b[1;34m(self, replaceUri, connected_socket)\u001b[0m\n\u001b[0;32m    594\u001b[0m     \u001b[38;5;28mself\u001b[39m\u001b[38;5;241m.\u001b[39m_pyroConnection \u001b[38;5;241m=\u001b[39m socketutil\u001b[38;5;241m.\u001b[39mSocketConnection(connected_socket, uri\u001b[38;5;241m.\u001b[39mobject, \u001b[38;5;28;01mTrue\u001b[39;00m)\n\u001b[0;32m    595\u001b[0m \u001b[38;5;28;01melse\u001b[39;00m:\n\u001b[1;32m--> 596\u001b[0m     connect_and_handshake(conn)\n\u001b[0;32m    597\u001b[0m \u001b[38;5;28;01mif\u001b[39;00m config\u001b[38;5;241m.\u001b[39mMETADATA:\n\u001b[0;32m    598\u001b[0m     \u001b[38;5;66;03m# obtain metadata if this feature is enabled, and the metadata is not known yet\u001b[39;00m\n\u001b[0;32m    599\u001b[0m     \u001b[38;5;28;01mif\u001b[39;00m \u001b[38;5;28mself\u001b[39m\u001b[38;5;241m.\u001b[39m_pyroMethods \u001b[38;5;129;01mor\u001b[39;00m \u001b[38;5;28mself\u001b[39m\u001b[38;5;241m.\u001b[39m_pyroAttrs:\n",
      "File \u001b[1;32m~\\anaconda3\\Lib\\site-packages\\Pyro4\\core.py:549\u001b[0m, in \u001b[0;36mProxy.__pyroCreateConnection.<locals>.connect_and_handshake\u001b[1;34m(conn)\u001b[0m\n\u001b[0;32m    547\u001b[0m         \u001b[38;5;28;01mif\u001b[39;00m sys\u001b[38;5;241m.\u001b[39mversion_info \u001b[38;5;241m>\u001b[39m\u001b[38;5;241m=\u001b[39m (\u001b[38;5;241m3\u001b[39m, \u001b[38;5;241m0\u001b[39m):\n\u001b[0;32m    548\u001b[0m             ce\u001b[38;5;241m.\u001b[39m__cause__ \u001b[38;5;241m=\u001b[39m x\n\u001b[1;32m--> 549\u001b[0m         \u001b[38;5;28;01mraise\u001b[39;00m ce\n\u001b[0;32m    550\u001b[0m \u001b[38;5;28;01melse\u001b[39;00m:\n\u001b[0;32m    551\u001b[0m     handshake_response \u001b[38;5;241m=\u001b[39m \u001b[38;5;124m\"\u001b[39m\u001b[38;5;124m?\u001b[39m\u001b[38;5;124m\"\u001b[39m\n",
      "\u001b[1;31mCommunicationError\u001b[0m: cannot connect to ('localhost', 50544): [WinError 10061] No connection could be made because the target machine actively refused it"
     ]
    }
   ],
   "source": [
    "# CLIENT CELL\n",
    "\n",
    "import Pyro4\n",
    "\n",
    "# Paste the URI from the server output\n",
    "uri = \"PYRO:obj_26f8411c05f5468d9b05ee4c828fdf63@localhost:50544\"  # Replace with your actual URI\n",
    "\n",
    "proxy = Pyro4.Proxy(uri)\n",
    "\n",
    "str1 = input(\"Enter first string: \")\n",
    "str2 = input(\"Enter second string: \")\n",
    "\n",
    "result = proxy.concatenate(str1, str2)\n",
    "print(\"Concatenated result:\", result)\n"
   ]
  },
  {
   "cell_type": "code",
   "execution_count": null,
   "id": "92917c24",
   "metadata": {},
   "outputs": [],
   "source": []
  }
 ],
 "metadata": {
  "kernelspec": {
   "display_name": "Python 3 (ipykernel)",
   "language": "python",
   "name": "python3"
  },
  "language_info": {
   "codemirror_mode": {
    "name": "ipython",
    "version": 3
   },
   "file_extension": ".py",
   "mimetype": "text/x-python",
   "name": "python",
   "nbconvert_exporter": "python",
   "pygments_lexer": "ipython3",
   "version": "3.12.7"
  }
 },
 "nbformat": 4,
 "nbformat_minor": 5
}
